{
 "cells": [
  {
   "cell_type": "code",
   "execution_count": 1,
   "id": "62eab69a",
   "metadata": {},
   "outputs": [
    {
     "data": {
      "text/plain": [
       "'/Users/tesacs/Documents/GitHub/cypher/notebooks'"
      ]
     },
     "execution_count": 1,
     "metadata": {},
     "output_type": "execute_result"
    }
   ],
   "source": [
    "pwd"
   ]
  },
  {
   "cell_type": "code",
   "execution_count": 16,
   "id": "bb5f809b",
   "metadata": {},
   "outputs": [
    {
     "data": {
      "text/html": [
       "<div>\n",
       "<style scoped>\n",
       "    .dataframe tbody tr th:only-of-type {\n",
       "        vertical-align: middle;\n",
       "    }\n",
       "\n",
       "    .dataframe tbody tr th {\n",
       "        vertical-align: top;\n",
       "    }\n",
       "\n",
       "    .dataframe thead th {\n",
       "        text-align: right;\n",
       "    }\n",
       "</style>\n",
       "<table border=\"1\" class=\"dataframe\">\n",
       "  <thead>\n",
       "    <tr style=\"text-align: right;\">\n",
       "      <th></th>\n",
       "      <th>song</th>\n",
       "      <th>artist</th>\n",
       "      <th>hip_hop_rnb</th>\n",
       "      <th>lyrics</th>\n",
       "      <th>song_genre</th>\n",
       "    </tr>\n",
       "  </thead>\n",
       "  <tbody>\n",
       "    <tr>\n",
       "      <th>0</th>\n",
       "      <td>Beautiful Crazy</td>\n",
       "      <td>Luke Combs</td>\n",
       "      <td>0.0</td>\n",
       "      <td>Her day starts with a coffee and ends with a w...</td>\n",
       "      <td>Country/Rock</td>\n",
       "    </tr>\n",
       "    <tr>\n",
       "      <th>1</th>\n",
       "      <td>Best Shot</td>\n",
       "      <td>Jimmie Allen</td>\n",
       "      <td>0.0</td>\n",
       "      <td>I'm just flesh and bone, heart and soul And I'...</td>\n",
       "      <td>Country/Rock</td>\n",
       "    </tr>\n",
       "    <tr>\n",
       "      <th>2</th>\n",
       "      <td>Blue Tacoma</td>\n",
       "      <td>Russell Dickerson</td>\n",
       "      <td>0.0</td>\n",
       "      <td>Blue Tacoma, California Rays of gold are shini...</td>\n",
       "      <td>Country/Rock</td>\n",
       "    </tr>\n",
       "    <tr>\n",
       "      <th>3</th>\n",
       "      <td>Broken Halos</td>\n",
       "      <td>Chris Stapleton</td>\n",
       "      <td>0.0</td>\n",
       "      <td>Seen my share of broken halos Folded wings tha...</td>\n",
       "      <td>Country/Rock</td>\n",
       "    </tr>\n",
       "    <tr>\n",
       "      <th>4</th>\n",
       "      <td>Even Though I'm Leaving</td>\n",
       "      <td>Luke Combs</td>\n",
       "      <td>0.0</td>\n",
       "      <td>Daddy, I'm afraid, won't you stay a little whi...</td>\n",
       "      <td>Country/Rock</td>\n",
       "    </tr>\n",
       "    <tr>\n",
       "      <th>5</th>\n",
       "      <td>Every Little Thing</td>\n",
       "      <td>Russell Dickerson</td>\n",
       "      <td>0.0</td>\n",
       "      <td>Who! Huh, yeah My baby, she's Alabama A dixie ...</td>\n",
       "      <td>Country/Rock</td>\n",
       "    </tr>\n",
       "    <tr>\n",
       "      <th>6</th>\n",
       "      <td>Eyes on You</td>\n",
       "      <td>Chase Rice</td>\n",
       "      <td>0.0</td>\n",
       "      <td>We've been to both Carolinas Seen a big Montan...</td>\n",
       "      <td>Country/Rock</td>\n",
       "    </tr>\n",
       "    <tr>\n",
       "      <th>7</th>\n",
       "      <td>For the First Time</td>\n",
       "      <td>Darius Rucker</td>\n",
       "      <td>0.0</td>\n",
       "      <td>You say you never danced to a dashboard singin...</td>\n",
       "      <td>Country/Rock</td>\n",
       "    </tr>\n",
       "    <tr>\n",
       "      <th>8</th>\n",
       "      <td>Get Along</td>\n",
       "      <td>Kenny Chesney</td>\n",
       "      <td>0.0</td>\n",
       "      <td>Met a man wearin' a T-shirt, says \"Virginia is...</td>\n",
       "      <td>Country/Rock</td>\n",
       "    </tr>\n",
       "    <tr>\n",
       "      <th>9</th>\n",
       "      <td>Girl</td>\n",
       "      <td>Maren Morris</td>\n",
       "      <td>0.0</td>\n",
       "      <td>Man, this shit's unflatterin', all up in my he...</td>\n",
       "      <td>Country/Rock</td>\n",
       "    </tr>\n",
       "  </tbody>\n",
       "</table>\n",
       "</div>"
      ],
      "text/plain": [
       "                      song             artist  hip_hop_rnb  \\\n",
       "0          Beautiful Crazy         Luke Combs          0.0   \n",
       "1                Best Shot       Jimmie Allen          0.0   \n",
       "2              Blue Tacoma  Russell Dickerson          0.0   \n",
       "3             Broken Halos    Chris Stapleton          0.0   \n",
       "4  Even Though I'm Leaving         Luke Combs          0.0   \n",
       "5       Every Little Thing  Russell Dickerson          0.0   \n",
       "6              Eyes on You         Chase Rice          0.0   \n",
       "7       For the First Time      Darius Rucker          0.0   \n",
       "8                Get Along      Kenny Chesney          0.0   \n",
       "9                     Girl       Maren Morris          0.0   \n",
       "\n",
       "                                              lyrics    song_genre  \n",
       "0  Her day starts with a coffee and ends with a w...  Country/Rock  \n",
       "1  I'm just flesh and bone, heart and soul And I'...  Country/Rock  \n",
       "2  Blue Tacoma, California Rays of gold are shini...  Country/Rock  \n",
       "3  Seen my share of broken halos Folded wings tha...  Country/Rock  \n",
       "4  Daddy, I'm afraid, won't you stay a little whi...  Country/Rock  \n",
       "5  Who! Huh, yeah My baby, she's Alabama A dixie ...  Country/Rock  \n",
       "6  We've been to both Carolinas Seen a big Montan...  Country/Rock  \n",
       "7  You say you never danced to a dashboard singin...  Country/Rock  \n",
       "8  Met a man wearin' a T-shirt, says \"Virginia is...  Country/Rock  \n",
       "9  Man, this shit's unflatterin', all up in my he...  Country/Rock  "
      ]
     },
     "execution_count": 16,
     "metadata": {},
     "output_type": "execute_result"
    }
   ],
   "source": [
    "import pandas as pd\n",
    "import numpy as np\n",
    "\n",
    "lyrics_by_song = pd.read_csv('lyr_df.csv')\n",
    "lyrics_by_song['song_genre'] = np.where(lyrics_by_song['hip_hop_rnb'] == 0.0, 'Country/Rock', 'Hiphop/RnB')\n",
    "lyrics_by_song.head(10)"
   ]
  },
  {
   "cell_type": "code",
   "execution_count": 17,
   "id": "b3e6dea8",
   "metadata": {},
   "outputs": [
    {
     "data": {
      "text/plain": [
       "['Country/Rock', 'Hiphop/RnB']"
      ]
     },
     "execution_count": 17,
     "metadata": {},
     "output_type": "execute_result"
    }
   ],
   "source": [
    "from sklearn.utils import shuffle\n",
    "from nltk.corpus import stopwords\n",
    "\n",
    "genres = [\n",
    "    'Country/Rock','Hiphop/RnB'\n",
    "]\n",
    "genres"
   ]
  },
  {
   "cell_type": "code",
   "execution_count": 18,
   "id": "fd9d8660",
   "metadata": {},
   "outputs": [],
   "source": [
    "LYRIC_LEN = 400 # each song has to be > 400 characters\n",
    "N = 100 # number of records to pull from each genre\n",
    "RANDOM_SEED = 200 # random seed to make results repeatable\n",
    "\n",
    "train_df = pd.DataFrame()\n",
    "test_df = pd.DataFrame()\n",
    "for genre in genres: # loop over each genre\n",
    "    subset = lyrics_by_song[ # create a subset \n",
    "        (lyrics_by_song.song_genre==genre) & \n",
    "        (lyrics_by_song.lyrics.str.len() > LYRIC_LEN)\n",
    "    ]\n",
    "    train_set = subset.sample(n=N, random_state=RANDOM_SEED)\n",
    "    test_set = subset.drop(train_set.index)\n",
    "    train_df = train_df.append(train_set) # append subsets to the master sets\n",
    "    test_df = test_df.append(test_set)"
   ]
  },
  {
   "cell_type": "code",
   "execution_count": 19,
   "id": "7b4d8494",
   "metadata": {},
   "outputs": [
    {
     "data": {
      "text/html": [
       "<div>\n",
       "<style scoped>\n",
       "    .dataframe tbody tr th:only-of-type {\n",
       "        vertical-align: middle;\n",
       "    }\n",
       "\n",
       "    .dataframe tbody tr th {\n",
       "        vertical-align: top;\n",
       "    }\n",
       "\n",
       "    .dataframe thead th {\n",
       "        text-align: right;\n",
       "    }\n",
       "</style>\n",
       "<table border=\"1\" class=\"dataframe\">\n",
       "  <thead>\n",
       "    <tr style=\"text-align: right;\">\n",
       "      <th></th>\n",
       "      <th>song</th>\n",
       "      <th>artist</th>\n",
       "      <th>hip_hop_rnb</th>\n",
       "      <th>lyrics</th>\n",
       "      <th>song_genre</th>\n",
       "    </tr>\n",
       "  </thead>\n",
       "  <tbody>\n",
       "    <tr>\n",
       "      <th>145</th>\n",
       "      <td>Lola Montez</td>\n",
       "      <td>Volbeat</td>\n",
       "      <td>0.0</td>\n",
       "      <td>Feel the fire where she walks Lola Montez so b...</td>\n",
       "      <td>Country/Rock</td>\n",
       "    </tr>\n",
       "    <tr>\n",
       "      <th>162</th>\n",
       "      <td>Panic Attack</td>\n",
       "      <td>The Glorious Sons</td>\n",
       "      <td>0.0</td>\n",
       "      <td>I wanna be normal, I wanna be sane I wanna loo...</td>\n",
       "      <td>Country/Rock</td>\n",
       "    </tr>\n",
       "    <tr>\n",
       "      <th>189</th>\n",
       "      <td>Still Counting</td>\n",
       "      <td>Volbeat</td>\n",
       "      <td>0.0</td>\n",
       "      <td>Counting all the assholes in the room Well, I'...</td>\n",
       "      <td>Country/Rock</td>\n",
       "    </tr>\n",
       "    <tr>\n",
       "      <th>191</th>\n",
       "      <td>Stone</td>\n",
       "      <td>Alice in Chains</td>\n",
       "      <td>0.0</td>\n",
       "      <td>I know you think I'm wrong But I'm not your to...</td>\n",
       "      <td>Country/Rock</td>\n",
       "    </tr>\n",
       "    <tr>\n",
       "      <th>104</th>\n",
       "      <td>Fall to Pieces</td>\n",
       "      <td>Velvet Revolver</td>\n",
       "      <td>0.0</td>\n",
       "      <td>It's been a long year Since you've been gone I...</td>\n",
       "      <td>Country/Rock</td>\n",
       "    </tr>\n",
       "    <tr>\n",
       "      <th>...</th>\n",
       "      <td>...</td>\n",
       "      <td>...</td>\n",
       "      <td>...</td>\n",
       "      <td>...</td>\n",
       "      <td>...</td>\n",
       "    </tr>\n",
       "    <tr>\n",
       "      <th>463</th>\n",
       "      <td>The Hills</td>\n",
       "      <td>The Weeknd</td>\n",
       "      <td>1.0</td>\n",
       "      <td>Yeah Yeah Yeah Your man on the road, he doin' ...</td>\n",
       "      <td>Hiphop/RnB</td>\n",
       "    </tr>\n",
       "    <tr>\n",
       "      <th>473</th>\n",
       "      <td>Twisted</td>\n",
       "      <td>Keith Sweat</td>\n",
       "      <td>1.0</td>\n",
       "      <td>Oh yeah baby You got to make your mind up Yeah...</td>\n",
       "      <td>Hiphop/RnB</td>\n",
       "    </tr>\n",
       "    <tr>\n",
       "      <th>540</th>\n",
       "      <td>Say Something</td>\n",
       "      <td>Timbaland</td>\n",
       "      <td>NaN</td>\n",
       "      <td>This shit was all I knew, you and me only I di...</td>\n",
       "      <td>Hiphop/RnB</td>\n",
       "    </tr>\n",
       "    <tr>\n",
       "      <th>301</th>\n",
       "      <td>Fancy</td>\n",
       "      <td>Iggy Azalea</td>\n",
       "      <td>1.0</td>\n",
       "      <td>First things first, I'm the realest (Realest) ...</td>\n",
       "      <td>Hiphop/RnB</td>\n",
       "    </tr>\n",
       "    <tr>\n",
       "      <th>607</th>\n",
       "      <td>Bounce with Me</td>\n",
       "      <td>Lil' Bow Wow</td>\n",
       "      <td>NaN</td>\n",
       "      <td>Uh-huh, yo (Oh, oh) Uh-huh, yo (Uh-huh, oh, oh...</td>\n",
       "      <td>Hiphop/RnB</td>\n",
       "    </tr>\n",
       "  </tbody>\n",
       "</table>\n",
       "<p>200 rows × 5 columns</p>\n",
       "</div>"
      ],
      "text/plain": [
       "               song             artist  hip_hop_rnb  \\\n",
       "145     Lola Montez            Volbeat          0.0   \n",
       "162    Panic Attack  The Glorious Sons          0.0   \n",
       "189  Still Counting            Volbeat          0.0   \n",
       "191           Stone    Alice in Chains          0.0   \n",
       "104  Fall to Pieces    Velvet Revolver          0.0   \n",
       "..              ...                ...          ...   \n",
       "463       The Hills         The Weeknd          1.0   \n",
       "473         Twisted        Keith Sweat          1.0   \n",
       "540   Say Something          Timbaland          NaN   \n",
       "301           Fancy        Iggy Azalea          1.0   \n",
       "607  Bounce with Me       Lil' Bow Wow          NaN   \n",
       "\n",
       "                                                lyrics    song_genre  \n",
       "145  Feel the fire where she walks Lola Montez so b...  Country/Rock  \n",
       "162  I wanna be normal, I wanna be sane I wanna loo...  Country/Rock  \n",
       "189  Counting all the assholes in the room Well, I'...  Country/Rock  \n",
       "191  I know you think I'm wrong But I'm not your to...  Country/Rock  \n",
       "104  It's been a long year Since you've been gone I...  Country/Rock  \n",
       "..                                                 ...           ...  \n",
       "463  Yeah Yeah Yeah Your man on the road, he doin' ...    Hiphop/RnB  \n",
       "473  Oh yeah baby You got to make your mind up Yeah...    Hiphop/RnB  \n",
       "540  This shit was all I knew, you and me only I di...    Hiphop/RnB  \n",
       "301  First things first, I'm the realest (Realest) ...    Hiphop/RnB  \n",
       "607  Uh-huh, yo (Oh, oh) Uh-huh, yo (Uh-huh, oh, oh...    Hiphop/RnB  \n",
       "\n",
       "[200 rows x 5 columns]"
      ]
     },
     "execution_count": 19,
     "metadata": {},
     "output_type": "execute_result"
    }
   ],
   "source": [
    "train_df"
   ]
  },
  {
   "cell_type": "code",
   "execution_count": 20,
   "id": "1b6d0015",
   "metadata": {},
   "outputs": [
    {
     "data": {
      "text/html": [
       "<div>\n",
       "<style scoped>\n",
       "    .dataframe tbody tr th:only-of-type {\n",
       "        vertical-align: middle;\n",
       "    }\n",
       "\n",
       "    .dataframe tbody tr th {\n",
       "        vertical-align: top;\n",
       "    }\n",
       "\n",
       "    .dataframe thead th {\n",
       "        text-align: right;\n",
       "    }\n",
       "</style>\n",
       "<table border=\"1\" class=\"dataframe\">\n",
       "  <thead>\n",
       "    <tr style=\"text-align: right;\">\n",
       "      <th></th>\n",
       "      <th>song</th>\n",
       "      <th>artist</th>\n",
       "      <th>hip_hop_rnb</th>\n",
       "      <th>lyrics</th>\n",
       "      <th>song_genre</th>\n",
       "    </tr>\n",
       "  </thead>\n",
       "  <tbody>\n",
       "    <tr>\n",
       "      <th>0</th>\n",
       "      <td>Beautiful Crazy</td>\n",
       "      <td>Luke Combs</td>\n",
       "      <td>0.0</td>\n",
       "      <td>Her day starts with a coffee and ends with a w...</td>\n",
       "      <td>Country/Rock</td>\n",
       "    </tr>\n",
       "    <tr>\n",
       "      <th>1</th>\n",
       "      <td>Best Shot</td>\n",
       "      <td>Jimmie Allen</td>\n",
       "      <td>0.0</td>\n",
       "      <td>I'm just flesh and bone, heart and soul And I'...</td>\n",
       "      <td>Country/Rock</td>\n",
       "    </tr>\n",
       "    <tr>\n",
       "      <th>2</th>\n",
       "      <td>Blue Tacoma</td>\n",
       "      <td>Russell Dickerson</td>\n",
       "      <td>0.0</td>\n",
       "      <td>Blue Tacoma, California Rays of gold are shini...</td>\n",
       "      <td>Country/Rock</td>\n",
       "    </tr>\n",
       "    <tr>\n",
       "      <th>3</th>\n",
       "      <td>Broken Halos</td>\n",
       "      <td>Chris Stapleton</td>\n",
       "      <td>0.0</td>\n",
       "      <td>Seen my share of broken halos Folded wings tha...</td>\n",
       "      <td>Country/Rock</td>\n",
       "    </tr>\n",
       "    <tr>\n",
       "      <th>6</th>\n",
       "      <td>Eyes on You</td>\n",
       "      <td>Chase Rice</td>\n",
       "      <td>0.0</td>\n",
       "      <td>We've been to both Carolinas Seen a big Montan...</td>\n",
       "      <td>Country/Rock</td>\n",
       "    </tr>\n",
       "    <tr>\n",
       "      <th>...</th>\n",
       "      <td>...</td>\n",
       "      <td>...</td>\n",
       "      <td>...</td>\n",
       "      <td>...</td>\n",
       "      <td>...</td>\n",
       "    </tr>\n",
       "    <tr>\n",
       "      <th>714</th>\n",
       "      <td>Wow</td>\n",
       "      <td>Post Malone</td>\n",
       "      <td>NaN</td>\n",
       "      <td>Said she tired of little money, need a big boy...</td>\n",
       "      <td>Hiphop/RnB</td>\n",
       "    </tr>\n",
       "    <tr>\n",
       "      <th>715</th>\n",
       "      <td>Truth Hurts</td>\n",
       "      <td>Lizzo</td>\n",
       "      <td>NaN</td>\n",
       "      <td>Why men great 'til they gotta be great? Woo! I...</td>\n",
       "      <td>Hiphop/RnB</td>\n",
       "    </tr>\n",
       "    <tr>\n",
       "      <th>716</th>\n",
       "      <td>Highest in the Room</td>\n",
       "      <td>Travis Scott</td>\n",
       "      <td>NaN</td>\n",
       "      <td>I got room in my fumes (Yeah) She fill my mind...</td>\n",
       "      <td>Hiphop/RnB</td>\n",
       "    </tr>\n",
       "    <tr>\n",
       "      <th>717</th>\n",
       "      <td>Truth Hurts</td>\n",
       "      <td>Lizzo</td>\n",
       "      <td>NaN</td>\n",
       "      <td>Why men great 'til they gotta be great? Woo! I...</td>\n",
       "      <td>Hiphop/RnB</td>\n",
       "    </tr>\n",
       "    <tr>\n",
       "      <th>718</th>\n",
       "      <td>Roxanne</td>\n",
       "      <td>Arizona Zervas</td>\n",
       "      <td>NaN</td>\n",
       "      <td>All for the 'Gram Bitches love the 'Gram Oh, w...</td>\n",
       "      <td>Hiphop/RnB</td>\n",
       "    </tr>\n",
       "  </tbody>\n",
       "</table>\n",
       "<p>519 rows × 5 columns</p>\n",
       "</div>"
      ],
      "text/plain": [
       "                    song             artist  hip_hop_rnb  \\\n",
       "0        Beautiful Crazy         Luke Combs          0.0   \n",
       "1              Best Shot       Jimmie Allen          0.0   \n",
       "2            Blue Tacoma  Russell Dickerson          0.0   \n",
       "3           Broken Halos    Chris Stapleton          0.0   \n",
       "6            Eyes on You         Chase Rice          0.0   \n",
       "..                   ...                ...          ...   \n",
       "714                  Wow        Post Malone          NaN   \n",
       "715          Truth Hurts              Lizzo          NaN   \n",
       "716  Highest in the Room       Travis Scott          NaN   \n",
       "717          Truth Hurts              Lizzo          NaN   \n",
       "718              Roxanne     Arizona Zervas          NaN   \n",
       "\n",
       "                                                lyrics    song_genre  \n",
       "0    Her day starts with a coffee and ends with a w...  Country/Rock  \n",
       "1    I'm just flesh and bone, heart and soul And I'...  Country/Rock  \n",
       "2    Blue Tacoma, California Rays of gold are shini...  Country/Rock  \n",
       "3    Seen my share of broken halos Folded wings tha...  Country/Rock  \n",
       "6    We've been to both Carolinas Seen a big Montan...  Country/Rock  \n",
       "..                                                 ...           ...  \n",
       "714  Said she tired of little money, need a big boy...    Hiphop/RnB  \n",
       "715  Why men great 'til they gotta be great? Woo! I...    Hiphop/RnB  \n",
       "716  I got room in my fumes (Yeah) She fill my mind...    Hiphop/RnB  \n",
       "717  Why men great 'til they gotta be great? Woo! I...    Hiphop/RnB  \n",
       "718  All for the 'Gram Bitches love the 'Gram Oh, w...    Hiphop/RnB  \n",
       "\n",
       "[519 rows x 5 columns]"
      ]
     },
     "execution_count": 20,
     "metadata": {},
     "output_type": "execute_result"
    }
   ],
   "source": [
    "test_df"
   ]
  },
  {
   "cell_type": "code",
   "execution_count": 21,
   "id": "57663248",
   "metadata": {},
   "outputs": [
    {
     "data": {
      "text/plain": [
       "0.8285163776493256"
      ]
     },
     "execution_count": 21,
     "metadata": {},
     "output_type": "execute_result"
    }
   ],
   "source": [
    "from sklearn.feature_extraction.text import CountVectorizer\n",
    "from sklearn.naive_bayes import MultinomialNB\n",
    "from sklearn.pipeline import Pipeline\n",
    "\n",
    "# define our model\n",
    "text_clf = Pipeline(\n",
    "    [('vect', CountVectorizer()),\n",
    "     ('clf', MultinomialNB(alpha=0.1))])\n",
    "\n",
    "# train our model on training data\n",
    "text_clf.fit(train_df.lyrics, train_df.song_genre)  \n",
    "\n",
    "# score our model on testing data\n",
    "predicted = text_clf.predict(test_df.lyrics)\n",
    "np.mean(predicted == test_df.song_genre)"
   ]
  },
  {
   "cell_type": "code",
   "execution_count": 22,
   "id": "794c9954",
   "metadata": {},
   "outputs": [
    {
     "data": {
      "text/plain": [
       "0.8766859344894027"
      ]
     },
     "execution_count": 22,
     "metadata": {},
     "output_type": "execute_result"
    }
   ],
   "source": [
    "from sklearn.naive_bayes import MultinomialNB\n",
    "from sklearn.pipeline import Pipeline\n",
    "from sklearn.feature_extraction.text import TfidfTransformer, TfidfVectorizer\n",
    "\n",
    "# define our model\n",
    "text_clf = Pipeline(\n",
    "    [('vect', TfidfVectorizer()),\n",
    "     ('clf', MultinomialNB(alpha=0.1))])\n",
    "\n",
    "# train our model on training data\n",
    "text_clf.fit(train_df.lyrics, train_df.song_genre)  \n",
    "\n",
    "# score our model on testing data\n",
    "predicted = text_clf.predict(test_df.lyrics)\n",
    "np.mean(predicted == test_df.song_genre)"
   ]
  },
  {
   "cell_type": "code",
   "execution_count": 12,
   "id": "b8073e76",
   "metadata": {},
   "outputs": [
    {
     "name": "stderr",
     "output_type": "stream",
     "text": [
      "[nltk_data] Downloading package punkt to /Users/tesacs/nltk_data...\n",
      "[nltk_data]   Unzipping tokenizers/punkt.zip.\n"
     ]
    },
    {
     "data": {
      "text/plain": [
       "True"
      ]
     },
     "execution_count": 12,
     "metadata": {},
     "output_type": "execute_result"
    }
   ],
   "source": [
    "import nltk\n",
    "nltk.download('punkt')"
   ]
  },
  {
   "cell_type": "code",
   "execution_count": 14,
   "id": "b252b97e",
   "metadata": {},
   "outputs": [
    {
     "name": "stderr",
     "output_type": "stream",
     "text": [
      "[nltk_data] Downloading package wordnet to /Users/tesacs/nltk_data...\n"
     ]
    },
    {
     "data": {
      "text/plain": [
       "True"
      ]
     },
     "execution_count": 14,
     "metadata": {},
     "output_type": "execute_result"
    }
   ],
   "source": [
    "import nltk\n",
    "nltk.download('wordnet')"
   ]
  },
  {
   "cell_type": "code",
   "execution_count": 23,
   "id": "bce547e4",
   "metadata": {},
   "outputs": [
    {
     "name": "stderr",
     "output_type": "stream",
     "text": [
      "/Users/tesacs/opt/anaconda3/lib/python3.9/site-packages/sklearn/feature_extraction/text.py:388: UserWarning: Your stop_words may be inconsistent with your preprocessing. Tokenizing the stop words generated tokens ['could', 'doe', 'ha', 'might', 'must', 'need', 'sha', 'wa', 'would'] not in stop_words.\n",
      "  warnings.warn('Your stop_words may be inconsistent with '\n"
     ]
    },
    {
     "data": {
      "text/plain": [
       "0.8053949903660886"
      ]
     },
     "execution_count": 23,
     "metadata": {},
     "output_type": "execute_result"
    }
   ],
   "source": [
    "from sklearn.naive_bayes import MultinomialNB\n",
    "from sklearn.pipeline import Pipeline\n",
    "from nltk import word_tokenize\n",
    "from nltk.stem import WordNetLemmatizer\n",
    "\n",
    "stop = list(set(stopwords.words('english'))) # stopwords\n",
    "wnl = WordNetLemmatizer() # lemmatizer\n",
    "\n",
    "def tokenizer(x): # custom tokenizer\n",
    "    return (\n",
    "        wnl.lemmatize(w) \n",
    "        for w in word_tokenize(x) \n",
    "        if len(w) > 2 and w.isalnum() # only words that are > 2 characters\n",
    "    )                                 # and is alpha-numeric\n",
    "\n",
    "# define our model\n",
    "text_clf = Pipeline(\n",
    "    [('vect', TfidfVectorizer(\n",
    "        ngram_range=(1, 2), # include bigrams\n",
    "        tokenizer=tokenizer,\n",
    "        stop_words=stop,\n",
    "        max_df=0.4, # ignore terms that appear in more than 40% of documents\n",
    "        min_df=4)), # ignore terms that appear in less than 4 documents\n",
    "     ('tfidf', TfidfTransformer()),\n",
    "     ('clf', MultinomialNB(alpha=0.1))])\n",
    "\n",
    "# train our model on training data\n",
    "text_clf.fit(train_df.lyrics, train_df.song_genre)  \n",
    "\n",
    "# score our model on testing data\n",
    "predicted = text_clf.predict(test_df.lyrics)\n",
    "np.mean(predicted == test_df.song_genre)"
   ]
  },
  {
   "cell_type": "code",
   "execution_count": null,
   "id": "0d51247e",
   "metadata": {},
   "outputs": [],
   "source": []
  }
 ],
 "metadata": {
  "kernelspec": {
   "display_name": "Python 3 (ipykernel)",
   "language": "python",
   "name": "python3"
  },
  "language_info": {
   "codemirror_mode": {
    "name": "ipython",
    "version": 3
   },
   "file_extension": ".py",
   "mimetype": "text/x-python",
   "name": "python",
   "nbconvert_exporter": "python",
   "pygments_lexer": "ipython3",
   "version": "3.9.7"
  }
 },
 "nbformat": 4,
 "nbformat_minor": 5
}
