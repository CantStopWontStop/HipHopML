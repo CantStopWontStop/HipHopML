{
  "cells": [
    {
      "cell_type": "raw",
      "metadata": {},
      "source": [
        "---\n",
        "title: \"Billboard Wikipedia Scrapper\"\n",
        "format: \n",
        "    html: \n",
        "        toc: true\n",
        "        code-fold: true\n",
        "        theme: 'flatly' \n",
        "---"
      ],
      "id": "31208420"
    },
    {
      "cell_type": "markdown",
      "metadata": {},
      "source": [
        "# Setup\n",
        "\n",
        "## Load Libraries\n"
      ],
      "id": "5891d03f"
    },
    {
      "cell_type": "code",
      "metadata": {},
      "source": [
        "from splinter import Browser\n",
        "from bs4 import BeautifulSoup as soup\n",
        "from selenium import webdriver\n",
        "from webdriver_manager.chrome import ChromeDriverManager\n",
        "import matplotlib.pyplot as plt\n",
        "import pandas as pd\n",
        "import requests\n",
        "import json "
      ],
      "id": "cbbe8c45",
      "execution_count": null,
      "outputs": []
    },
    {
      "cell_type": "markdown",
      "metadata": {},
      "source": [
        "## Assign URLs\n"
      ],
      "id": "add8aee2"
    },
    {
      "cell_type": "code",
      "metadata": {},
      "source": [
        "base = 'https://en.wikipedia.org/wiki/'\n",
        "route = 'List_of_Billboard_number-one_rap_singles_of_the_1980s_and_1990s'"
      ],
      "id": "69926b6d",
      "execution_count": null,
      "outputs": []
    },
    {
      "cell_type": "markdown",
      "metadata": {},
      "source": [
        "# Scrape Wikipedia Page\n"
      ],
      "id": "ad83f90b"
    },
    {
      "cell_type": "code",
      "metadata": {},
      "source": [
        "#| eval: false\n",
        "\n",
        "executable_path = {'executable_path': webdriver.Chrome(ChromeDriverManager().install())}\n",
        "\n",
        "\n",
        "browser = Browser('Chrome', **executable_path, headless=False)\n",
        "\n",
        "browser.visit(f'{base}{route}')\n",
        "\n",
        "songs_dict = []\n",
        "\n",
        "\n",
        "html = browser.html\n",
        "content = soup(html,\"lxml\")\n",
        "table = content.find('table', class_ = 'plainrowheaders sortable wikitable jquery-tablesorter')\n",
        "rows = table.find_all('tr')[1:]\n",
        "\n",
        "for n in rows:\n",
        "\n",
        "    # titles = []\n",
        "    # urls   = []\n",
        "    # yrs  = []\n",
        "    # songs = []\n",
        "    # artists = []\n",
        "    # rel_date = []\n",
        "\n",
        "\n",
        "    row_hd = n.find('th')\n",
        "    row    = n.findAll('td')\n",
        "    \n",
        "\n",
        "    if len(row)>4:\n",
        "\n",
        "        try:\n",
        "            link = row[0].a\n",
        "            url = link['href']\n",
        "            song = link.text\n",
        "            rd = row[2].text\n",
        "            art = row[1].text\n",
        "\n",
        "            data = {'song': song,\n",
        "                    'url': url,\n",
        "                    'date':rd,\n",
        "                    'artist': art}\n",
        "            print(data)\n",
        "        except (KeyError, TypeError):\n",
        "            pass\n",
        "\n",
        "        try:\n",
        "            songs_dict.append(data)\n",
        "        except (KeyError, TypeError):\n",
        "            pass\n",
        "        \n",
        "    else:\n",
        "\n",
        "        try:\n",
        "            link = row[0].a\n",
        "            url = link['href']\n",
        "            art = link.text\n",
        "            rd = row[1].text\n",
        "            song = row_hd.text\n",
        "            data = {'song': song,\n",
        "                    'url': url,\n",
        "                    'date':rd,\n",
        "                    'artist': art}\n",
        "            \n",
        "            print(data)\n",
        "        except (KeyError, TypeError):\n",
        "                pass\n",
        "        try:\n",
        "            songs_dict.append(data)\n",
        "        except (KeyError, TypeError):\n",
        "            pass\n",
        "\n",
        "    # try:\n",
        "    #     titles.append(link.text)\n",
        "    #     urls.append(link['href'][6:])\n",
        "    #     yrs.append(span['data-sort-value'])\n",
        "    # except (KeyError, TypeError):\n",
        "    #         pass\n",
        "    # titles.append(link['title'])\n",
        "\n",
        "songs_dict"
      ],
      "id": "81eb4719",
      "execution_count": null,
      "outputs": []
    },
    {
      "cell_type": "markdown",
      "metadata": {},
      "source": [
        "# Results\n"
      ],
      "id": "c1d1a5b4"
    },
    {
      "cell_type": "code",
      "metadata": {},
      "source": [
        "data = pd.read_json('80s-90s.json')\n",
        "\n",
        "\n",
        "# json.dumps(data)\n",
        "\n",
        "print(data)"
      ],
      "id": "7539c042",
      "execution_count": null,
      "outputs": []
    },
    {
      "cell_type": "code",
      "metadata": {},
      "source": [
        "#| eval: false\n",
        "\n",
        "\n",
        "# the json file where the output must be stored \n",
        "out_file = open(\"80s-90s.json\", \"w\") \n",
        "    \n",
        "json.dump(songs_dict, out_file, indent = 6) \n",
        "    \n",
        "out_file.close() "
      ],
      "id": "15ced916",
      "execution_count": null,
      "outputs": []
    },
    {
      "cell_type": "code",
      "metadata": {},
      "source": [
        "pd.read_json('80s-90s.json')"
      ],
      "id": "be86f20c",
      "execution_count": null,
      "outputs": []
    }
  ],
  "metadata": {
    "kernelspec": {
      "name": "pythondata",
      "language": "python",
      "display_name": "PythonData"
    }
  },
  "nbformat": 4,
  "nbformat_minor": 5
}