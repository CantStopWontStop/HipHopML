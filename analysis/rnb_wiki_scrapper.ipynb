{
 "cells": [
  {
   "cell_type": "code",
   "execution_count": 3,
   "metadata": {},
   "outputs": [],
   "source": [
    "from splinter import Browser\n",
    "from bs4 import BeautifulSoup as soup\n",
    "from webdriver_manager.chrome import ChromeDriverManager\n",
    "import matplotlib.pyplot as plt\n",
    "import pandas as pd\n",
    "import requests"
   ]
  },
  {
   "cell_type": "code",
   "execution_count": 4,
   "metadata": {},
   "outputs": [],
   "source": [
    "executable_path = {'executable_path': ChromeDriverManager().install()}\n",
    "browser = Browser('chrome', **executable_path, headless=False)"
   ]
  },
  {
   "cell_type": "code",
   "execution_count": null,
   "metadata": {},
   "outputs": [],
   "source": [
    "base = 'https://en.wikipedia.org/wiki/'\n",
    "\n",
    "route_89 = 'https://en.wikipedia.org/wiki/List_of_Hot_Black_Singles_number_ones_of_1989'\n",
    "route_89_99 = 'List_of_number-one_R%26B_singles_of_'\n",
    "route_00_2019 = 'List_of_number-one_R%26B_singles_of_2006_(U.S.)'"
   ]
  },
  {
   "cell_type": "code",
   "execution_count": 3,
   "metadata": {},
   "outputs": [],
   "source": [
    "url = 'https://en.wikipedia.org/wiki/List_of_Hot_Black_Singles_number_ones_of_1988'"
   ]
  },
  {
   "cell_type": "code",
   "execution_count": 67,
   "metadata": {},
   "outputs": [],
   "source": [
    "browser.visit(f'{url}')\n",
    "\n",
    "html = browser.html\n",
    "content = soup(html,\"lxml\")"
   ]
  },
  {
   "cell_type": "code",
   "execution_count": 5,
   "metadata": {},
   "outputs": [],
   "source": [
    "table = content.find('table', class_ = 'nowraplinks mw-collapsible autocollapse navbox-inner mw-made-collapsible')\n",
    "\n",
    "rows = table.find_all('a')[5:]\n"
   ]
  },
  {
   "cell_type": "code",
   "execution_count": 6,
   "metadata": {},
   "outputs": [
    {
     "data": {
      "text/plain": [
       "['/wiki/List_of_Hot_Black_Singles_number_ones_of_1989',\n",
       " '/wiki/List_of_number-one_R%26B_singles_of_1990_(U.S.)',\n",
       " '/wiki/List_of_number-one_R%26B_singles_of_1991_(U.S.)',\n",
       " '/wiki/List_of_number-one_R%26B_singles_of_1992_(U.S.)',\n",
       " '/wiki/List_of_number-one_R%26B_singles_of_1993_(U.S.)',\n",
       " '/wiki/List_of_number-one_R%26B_singles_of_1994_(U.S.)',\n",
       " '/wiki/List_of_number-one_R%26B_singles_of_1995_(U.S.)',\n",
       " '/wiki/List_of_number-one_R%26B_singles_of_1996_(U.S.)',\n",
       " '/wiki/List_of_number-one_R%26B_singles_of_1997_(U.S.)',\n",
       " '/wiki/List_of_number-one_R%26B_singles_of_1998_(U.S.)',\n",
       " '/wiki/List_of_Hot_R%26B_Singles_%26_Tracks_number_ones_of_1999',\n",
       " '/wiki/List_of_Hot_R%26B/Hip-Hop_Singles_%26_Tracks_number_ones_of_2000',\n",
       " '/wiki/List_of_Hot_R%26B/Hip-Hop_Singles_%26_Tracks_number_ones_of_2001',\n",
       " '/wiki/List_of_Hot_R%26B/Hip-Hop_Singles_%26_Tracks_number_ones_of_2002',\n",
       " '/wiki/List_of_Hot_R%26B/Hip-Hop_Singles_%26_Tracks_number_ones_of_2003',\n",
       " '/wiki/List_of_Hot_R%26B/Hip-Hop_Singles_%26_Tracks_number_ones_of_2004',\n",
       " '/wiki/List_of_number-one_R%26B_singles_of_2005_(U.S.)',\n",
       " '/wiki/List_of_number-one_R%26B_singles_of_2006_(U.S.)',\n",
       " '/wiki/List_of_number-one_R%26B_singles_of_2007_(U.S.)',\n",
       " '/wiki/List_of_number-one_R%26B_singles_of_2008_(U.S.)',\n",
       " '/wiki/List_of_number-one_R%26B_singles_of_2009_(U.S.)',\n",
       " '/wiki/List_of_number-one_R%26B_singles_of_2010_(U.S.)',\n",
       " '/wiki/List_of_number-one_R%26B_singles_of_2011_(U.S.)',\n",
       " '/wiki/List_of_number-one_R%26B/hip-hop_songs_of_2012_(U.S.)',\n",
       " '/wiki/List_of_number-one_R%26B/hip-hop_songs_of_2013_(U.S.)',\n",
       " '/wiki/List_of_number-one_R%26B/hip-hop_songs_of_2014_(U.S.)',\n",
       " '/wiki/List_of_number-one_R%26B/hip-hop_songs_of_2015_(U.S.)',\n",
       " '/wiki/List_of_number-one_R%26B/hip-hop_songs_of_2016_(U.S.)',\n",
       " '/wiki/List_of_number-one_R%26B/hip-hop_songs_of_2017_(U.S.)',\n",
       " '/wiki/List_of_number-one_R%26B/hip-hop_songs_of_2018_(U.S.)',\n",
       " '/wiki/List_of_number-one_R%26B/hip-hop_songs_of_2019_(U.S.)',\n",
       " '/wiki/List_of_number-one_R%26B/hip-hop_songs_of_2020_(U.S.)',\n",
       " '/wiki/List_of_number-one_R%26B/hip-hop_songs_of_2021_(U.S.)',\n",
       " '/wiki/List_of_number-one_R%26B/hip-hop_songs_of_2022_(U.S.)',\n",
       " '/wiki/List_of_number-one_R%26B/hip-hop_songs_of_2023_(U.S.)']"
      ]
     },
     "execution_count": 6,
     "metadata": {},
     "output_type": "execute_result"
    }
   ],
   "source": [
    "urls = []\n",
    "\n",
    "for row in rows:\n",
    "    year = row.text\n",
    "    try:\n",
    "        href = row['href']\n",
    "    except KeyError:\n",
    "        pass\n",
    "\n",
    "    if int(year) >= 1989:\n",
    "        try:\n",
    "            urls.append(href)\n",
    "        except (KeyError, TypeError):\n",
    "            pass\n",
    "\n",
    "urls"
   ]
  },
  {
   "cell_type": "code",
   "execution_count": 5,
   "metadata": {},
   "outputs": [],
   "source": [
    "artists = []\n",
    "songs = []"
   ]
  },
  {
   "cell_type": "code",
   "execution_count": null,
   "metadata": {},
   "outputs": [],
   "source": [
    "artists_all = []\n",
    "songs_all = []"
   ]
  },
  {
   "cell_type": "code",
   "execution_count": 80,
   "metadata": {},
   "outputs": [],
   "source": []
  },
  {
   "cell_type": "code",
   "execution_count": 8,
   "metadata": {},
   "outputs": [
    {
     "ename": "AttributeError",
     "evalue": "'NoneType' object has no attribute 'find_all'",
     "output_type": "error",
     "traceback": [
      "\u001b[1;31m---------------------------------------------------------------------------\u001b[0m",
      "\u001b[1;31mAttributeError\u001b[0m                            Traceback (most recent call last)",
      "Cell \u001b[1;32mIn [8], line 8\u001b[0m\n\u001b[0;32m      6\u001b[0m content \u001b[39m=\u001b[39m soup(html,\u001b[39m\"\u001b[39m\u001b[39mlxml\u001b[39m\u001b[39m\"\u001b[39m)\n\u001b[0;32m      7\u001b[0m table \u001b[39m=\u001b[39m content\u001b[39m.\u001b[39mfind(\u001b[39m'\u001b[39m\u001b[39mtable\u001b[39m\u001b[39m'\u001b[39m, class_ \u001b[39m=\u001b[39m \u001b[39m'\u001b[39m\u001b[39mplainrowheaders sortable wikitable\u001b[39m\u001b[39m'\u001b[39m)\n\u001b[1;32m----> 8\u001b[0m rows \u001b[39m=\u001b[39m table\u001b[39m.\u001b[39mfind_all(\u001b[39m'\u001b[39m\u001b[39mtr\u001b[39m\u001b[39m'\u001b[39m)[\u001b[39m1\u001b[39m:]\n\u001b[0;32m     10\u001b[0m rows\n",
      "\u001b[1;31mAttributeError\u001b[0m: 'NoneType' object has no attribute 'find_all'"
     ]
    }
   ],
   "source": [
    "browser.visit('https://en.wikipedia.org/wiki/List_of_Hot_Black_Singles_number_ones_of_1989')\n",
    "\n",
    "\n",
    "\n",
    "html = browser.html\n",
    "content = soup(html,\"lxml\")\n",
    "table = content.find('table', class_ = 'plainrowheaders sortable wikitable')\n",
    "rows = table.find_all('tr')[1:]\n",
    "\n",
    "rows\n",
    "\n",
    "# for row in rows:\n",
    "#     try:\n",
    "#         link =  row.find_all('a')\n",
    "#         song_title = link['title']\n",
    "#     except (KeyError,TypeError):\n",
    "#         pass\n",
    "#     if len(link) > 2:\n",
    "#         try:\n",
    "#             song_href = link[0].text\n",
    "#             artists_href = link[1].text\n",
    "#         except IndexError:\n",
    "#             pass\n",
    "#         artists.append(artists_href)\n",
    "#         songs.append(song_href)\n",
    "\n",
    "#     # for href in link:\n",
    "#     #     print(link[0])\n",
    "#     # print(song_href,'-----', artists_href,'\\n\\n--------\\n\\n')\n",
    "# songs\n"
   ]
  },
  {
   "cell_type": "code",
   "execution_count": 1,
   "metadata": {},
   "outputs": [
    {
     "ename": "NameError",
     "evalue": "name 'pd' is not defined",
     "output_type": "error",
     "traceback": [
      "\u001b[1;31m---------------------------------------------------------------------------\u001b[0m",
      "\u001b[1;31mNameError\u001b[0m                                 Traceback (most recent call last)",
      "Cell \u001b[1;32mIn [1], line 1\u001b[0m\n\u001b[1;32m----> 1\u001b[0m songs_df \u001b[39m=\u001b[39m pd\u001b[39m.\u001b[39mDataFrame({\u001b[39m'\u001b[39m\u001b[39martist\u001b[39m\u001b[39m'\u001b[39m: artists,\n\u001b[0;32m      2\u001b[0m                       \u001b[39m'\u001b[39m\u001b[39msong\u001b[39m\u001b[39m'\u001b[39m: songs})\n\u001b[0;32m      4\u001b[0m songs_df\u001b[39m.\u001b[39mto_csv(\u001b[39m'\u001b[39m\u001b[39m../data/rnb_89-99.csv\u001b[39m\u001b[39m'\u001b[39m)\n\u001b[0;32m      6\u001b[0m songs_df\n",
      "\u001b[1;31mNameError\u001b[0m: name 'pd' is not defined"
     ]
    }
   ],
   "source": [
    "songs_df = pd.DataFrame({'artist': artists,\n",
    "                      'song': songs})\n",
    "\n",
    "songs_df.to_csv('../data/rnb_89-99.csv')\n",
    "\n",
    "songs_df"
   ]
  }
 ],
 "metadata": {
  "kernelspec": {
   "display_name": "Python 3",
   "language": "python",
   "name": "python3"
  },
  "language_info": {
   "codemirror_mode": {
    "name": "ipython",
    "version": 3
   },
   "file_extension": ".py",
   "mimetype": "text/x-python",
   "name": "python",
   "nbconvert_exporter": "python",
   "pygments_lexer": "ipython3",
   "version": "3.10.7"
  },
  "orig_nbformat": 4,
  "vscode": {
   "interpreter": {
    "hash": "26de051ba29f2982a8de78e945f0abaf191376122a1563185a90213a26c5da77"
   }
  }
 },
 "nbformat": 4,
 "nbformat_minor": 2
}
