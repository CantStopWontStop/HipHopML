{
 "cells": [
  {
   "cell_type": "code",
   "execution_count": 1,
   "metadata": {},
   "outputs": [],
   "source": [
    "from splinter import Browser\n",
    "from bs4 import BeautifulSoup as soup\n",
    "from webdriver_manager.chrome import ChromeDriverManager\n",
    "import matplotlib.pyplot as plt\n",
    "import pandas as pd\n",
    "import requests"
   ]
  },
  {
   "cell_type": "code",
   "execution_count": 22,
   "metadata": {},
   "outputs": [],
   "source": [
    "executable_path = {'executable_path': ChromeDriverManager().install()}\n"
   ]
  },
  {
   "cell_type": "code",
   "execution_count": null,
   "metadata": {},
   "outputs": [],
   "source": [
    "# table = content.find('table', class_ = 'nowraplinks mw-collapsible autocollapse navbox-inner mw-made-collapsible')\n",
    "\n",
    "# rows = table.find_all('a')[5:]\n",
    "# urls = []\n",
    "\n",
    "# for row in rows:\n",
    "#     year = row.text\n",
    "#     try:\n",
    "#         href = row['href']\n",
    "#     except KeyError:\n",
    "#         pass\n",
    "\n",
    "#     if int(year) >= 1989:\n",
    "#         try:\n",
    "#             urls.append(href)\n",
    "#         except (KeyError, TypeError):\n",
    "#             pass\n",
    "\n",
    "# urls"
   ]
  },
  {
   "cell_type": "code",
   "execution_count": null,
   "metadata": {},
   "outputs": [],
   "source": [
    "artists = []\n",
    "songs = []"
   ]
  },
  {
   "cell_type": "code",
   "execution_count": null,
   "metadata": {},
   "outputs": [],
   "source": [
    "artists_all = []\n",
    "songs_all = []"
   ]
  },
  {
   "cell_type": "code",
   "execution_count": 29,
   "metadata": {},
   "outputs": [],
   "source": [
    "browser = Browser('chrome', **executable_path, headless=False)\n",
    "\n",
    "browser.visit('https://en.wikipedia.org/wiki/List_of_Hot_Black_Singles_number_ones_of_1989')\n",
    "\n",
    "\n",
    "\n"
   ]
  },
  {
   "cell_type": "code",
   "execution_count": null,
   "metadata": {},
   "outputs": [],
   "source": [
    "\n",
    "html = browser.html\n",
    "content = soup(html,\"lxml\")\n",
    "table = content.find('table', class_ = 'wikitable sortable plainrowheaders')\n",
    "# tbody = table.find_all('tbody')\n",
    "# rows = tbody.find_all('td')[1:]\n",
    "\n",
    "\n",
    "\n",
    "# for row in rows:\n",
    "#     try:\n",
    "#         link =  row.find_all('a')\n",
    "#         song_title = link['title']\n",
    "#     except (KeyError,TypeError):\n",
    "#         pass\n",
    "#     if len(link) > 2:\n",
    "#         try:\n",
    "#             song_href = link[0].text\n",
    "#             artists_href = link[1].text\n",
    "#         except IndexError:\n",
    "#             pass\n",
    "#         # artists.append(artists_href)\n",
    "#         # songs.append(song_href)\n",
    "\n",
    "#     # for href in link:\n",
    "#     #     print(link[0])\n",
    "#     print(song_href,'-----', artists_href,'\\n\\n--------\\n\\n')\n",
    "\n",
    "table\n",
    "\n",
    "for row in rows:\n",
    "    try:\n",
    "        link =  row.find_all('a')\n",
    "        song_title = link['title']\n",
    "    except (KeyError,TypeError):\n",
    "        pass\n",
    "    if len(link) > 2:\n",
    "        try:\n",
    "            song_href = link[0].text\n",
    "            artists_href = link[1].text\n",
    "        except IndexError:\n",
    "            pass\n",
    "        # artists.append(artists_href)\n",
    "        # songs.append(song_href)\n",
    "\n",
    "    # for href in link:\n",
    "    #     print(link[0])\n",
    "    print(song_href,'-----', artists_href,'\\n\\n--------\\n\\n')"
   ]
  },
  {
   "cell_type": "code",
   "execution_count": null,
   "metadata": {},
   "outputs": [],
   "source": [
    "songs_df = pd.DataFrame({'artist': artists,\n",
    "                      'song': songs})\n",
    "\n",
    "songs_df.to_csv('../data/rnb_89-99.csv')\n",
    "\n",
    "songs_df"
   ]
  }
 ],
 "metadata": {
  "kernelspec": {
   "display_name": "Python 3",
   "language": "python",
   "name": "python3"
  },
  "language_info": {
   "codemirror_mode": {
    "name": "ipython",
    "version": 3
   },
   "file_extension": ".py",
   "mimetype": "text/x-python",
   "name": "python",
   "nbconvert_exporter": "python",
   "pygments_lexer": "ipython3",
   "version": "3.10.7"
  },
  "orig_nbformat": 4,
  "vscode": {
   "interpreter": {
    "hash": "26de051ba29f2982a8de78e945f0abaf191376122a1563185a90213a26c5da77"
   }
  }
 },
 "nbformat": 4,
 "nbformat_minor": 2
}
